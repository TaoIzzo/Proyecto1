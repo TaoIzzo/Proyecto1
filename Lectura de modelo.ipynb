{
 "cells": [
  {
   "cell_type": "code",
   "execution_count": 1,
   "id": "7e8944d6-9dbe-4196-8e45-4c9a2d73e7c4",
   "metadata": {},
   "outputs": [],
   "source": [
    "import joblib\n",
    "import pandas as pd\n",
    "from sklearn.metrics import mean_squared_error, r2_score"
   ]
  },
  {
   "cell_type": "code",
   "execution_count": 2,
   "id": "14dda1a5-bdc5-4099-9afe-0a0dab2fbe84",
   "metadata": {},
   "outputs": [],
   "source": [
    "modelo = joblib.load('modelo_regresion_lineal_hipot1.pkl')\n",
    "data_refined = pd.read_csv('data_clean.csv')"
   ]
  },
  {
   "cell_type": "code",
   "execution_count": 3,
   "id": "8f01181d-d70c-4fd4-8a26-65256e197739",
   "metadata": {},
   "outputs": [
    {
     "name": "stdout",
     "output_type": "stream",
     "text": [
      "Datos refinados:\n"
     ]
    },
    {
     "data": {
      "text/html": [
       "<div>\n",
       "<style scoped>\n",
       "    .dataframe tbody tr th:only-of-type {\n",
       "        vertical-align: middle;\n",
       "    }\n",
       "\n",
       "    .dataframe tbody tr th {\n",
       "        vertical-align: top;\n",
       "    }\n",
       "\n",
       "    .dataframe thead th {\n",
       "        text-align: right;\n",
       "    }\n",
       "</style>\n",
       "<table border=\"1\" class=\"dataframe\">\n",
       "  <thead>\n",
       "    <tr style=\"text-align: right;\">\n",
       "      <th></th>\n",
       "      <th>Unnamed: 0</th>\n",
       "      <th>date</th>\n",
       "      <th>price</th>\n",
       "      <th>bedrooms</th>\n",
       "      <th>bathrooms</th>\n",
       "      <th>sqft_living</th>\n",
       "      <th>sqft_lot</th>\n",
       "      <th>floors</th>\n",
       "      <th>view</th>\n",
       "      <th>condition</th>\n",
       "      <th>sqft_above</th>\n",
       "      <th>sqft_basement</th>\n",
       "      <th>yr_built</th>\n",
       "      <th>yr_renovated</th>\n",
       "      <th>street</th>\n",
       "      <th>city</th>\n",
       "      <th>statezip</th>\n",
       "    </tr>\n",
       "  </thead>\n",
       "  <tbody>\n",
       "    <tr>\n",
       "      <th>0</th>\n",
       "      <td>0</td>\n",
       "      <td>2014-05-02 00:00:00</td>\n",
       "      <td>313000.0</td>\n",
       "      <td>3.0</td>\n",
       "      <td>1.5</td>\n",
       "      <td>1340</td>\n",
       "      <td>7912</td>\n",
       "      <td>1.5</td>\n",
       "      <td>0</td>\n",
       "      <td>3</td>\n",
       "      <td>1340</td>\n",
       "      <td>0</td>\n",
       "      <td>1955</td>\n",
       "      <td>2005</td>\n",
       "      <td>18810 Densmore Ave N</td>\n",
       "      <td>Shoreline</td>\n",
       "      <td>WA 98133</td>\n",
       "    </tr>\n",
       "    <tr>\n",
       "      <th>1</th>\n",
       "      <td>2</td>\n",
       "      <td>2014-05-02 00:00:00</td>\n",
       "      <td>342000.0</td>\n",
       "      <td>3.0</td>\n",
       "      <td>2.0</td>\n",
       "      <td>1930</td>\n",
       "      <td>11947</td>\n",
       "      <td>1.0</td>\n",
       "      <td>0</td>\n",
       "      <td>4</td>\n",
       "      <td>1930</td>\n",
       "      <td>0</td>\n",
       "      <td>1966</td>\n",
       "      <td>0</td>\n",
       "      <td>26206-26214 143rd Ave SE</td>\n",
       "      <td>Kent</td>\n",
       "      <td>WA 98042</td>\n",
       "    </tr>\n",
       "    <tr>\n",
       "      <th>2</th>\n",
       "      <td>4</td>\n",
       "      <td>2014-05-02 00:00:00</td>\n",
       "      <td>550000.0</td>\n",
       "      <td>4.0</td>\n",
       "      <td>2.5</td>\n",
       "      <td>1940</td>\n",
       "      <td>10500</td>\n",
       "      <td>1.0</td>\n",
       "      <td>0</td>\n",
       "      <td>4</td>\n",
       "      <td>1140</td>\n",
       "      <td>800</td>\n",
       "      <td>1976</td>\n",
       "      <td>1992</td>\n",
       "      <td>9105 170th Ave NE</td>\n",
       "      <td>Redmond</td>\n",
       "      <td>WA 98052</td>\n",
       "    </tr>\n",
       "    <tr>\n",
       "      <th>3</th>\n",
       "      <td>5</td>\n",
       "      <td>2014-05-02 00:00:00</td>\n",
       "      <td>490000.0</td>\n",
       "      <td>2.0</td>\n",
       "      <td>1.0</td>\n",
       "      <td>880</td>\n",
       "      <td>6380</td>\n",
       "      <td>1.0</td>\n",
       "      <td>0</td>\n",
       "      <td>3</td>\n",
       "      <td>880</td>\n",
       "      <td>0</td>\n",
       "      <td>1938</td>\n",
       "      <td>1994</td>\n",
       "      <td>522 NE 88th St</td>\n",
       "      <td>Seattle</td>\n",
       "      <td>WA 98115</td>\n",
       "    </tr>\n",
       "    <tr>\n",
       "      <th>4</th>\n",
       "      <td>6</td>\n",
       "      <td>2014-05-02 00:00:00</td>\n",
       "      <td>335000.0</td>\n",
       "      <td>2.0</td>\n",
       "      <td>2.0</td>\n",
       "      <td>1350</td>\n",
       "      <td>2560</td>\n",
       "      <td>1.0</td>\n",
       "      <td>0</td>\n",
       "      <td>3</td>\n",
       "      <td>1350</td>\n",
       "      <td>0</td>\n",
       "      <td>1976</td>\n",
       "      <td>0</td>\n",
       "      <td>2616 174th Ave NE</td>\n",
       "      <td>Redmond</td>\n",
       "      <td>WA 98052</td>\n",
       "    </tr>\n",
       "  </tbody>\n",
       "</table>\n",
       "</div>"
      ],
      "text/plain": [
       "   Unnamed: 0                 date     price  bedrooms  bathrooms  \\\n",
       "0           0  2014-05-02 00:00:00  313000.0       3.0        1.5   \n",
       "1           2  2014-05-02 00:00:00  342000.0       3.0        2.0   \n",
       "2           4  2014-05-02 00:00:00  550000.0       4.0        2.5   \n",
       "3           5  2014-05-02 00:00:00  490000.0       2.0        1.0   \n",
       "4           6  2014-05-02 00:00:00  335000.0       2.0        2.0   \n",
       "\n",
       "   sqft_living  sqft_lot  floors  view  condition  sqft_above  sqft_basement  \\\n",
       "0         1340      7912     1.5     0          3        1340              0   \n",
       "1         1930     11947     1.0     0          4        1930              0   \n",
       "2         1940     10500     1.0     0          4        1140            800   \n",
       "3          880      6380     1.0     0          3         880              0   \n",
       "4         1350      2560     1.0     0          3        1350              0   \n",
       "\n",
       "   yr_built  yr_renovated                    street       city  statezip  \n",
       "0      1955          2005      18810 Densmore Ave N  Shoreline  WA 98133  \n",
       "1      1966             0  26206-26214 143rd Ave SE       Kent  WA 98042  \n",
       "2      1976          1992         9105 170th Ave NE    Redmond  WA 98052  \n",
       "3      1938          1994            522 NE 88th St    Seattle  WA 98115  \n",
       "4      1976             0         2616 174th Ave NE    Redmond  WA 98052  "
      ]
     },
     "metadata": {},
     "output_type": "display_data"
    }
   ],
   "source": [
    "print(\"Datos refinados:\")\n",
    "display(data_refined.head())"
   ]
  },
  {
   "cell_type": "code",
   "execution_count": 4,
   "id": "f582bacb-a1a2-4060-a29c-74a39314cd43",
   "metadata": {},
   "outputs": [],
   "source": [
    "def hacer_prediccion(input_data):\n",
    "    \"\"\"\n",
    "    Esta función toma un DataFrame con los datos de entrada y devuelve las predicciones del modelo.\n",
    "    \"\"\"\n",
    "    try:\n",
    "        # Hacer predicciones usando el modelo cargado\n",
    "        predicciones = modelo.predict(input_data)\n",
    "        return predicciones\n",
    "    except Exception as e:\n",
    "        print(f\"Error al predecir: {e}\")\n"
   ]
  },
  {
   "cell_type": "code",
   "execution_count": 5,
   "id": "80bebfea-054e-4d6e-b2f8-538631aa5a18",
   "metadata": {},
   "outputs": [],
   "source": [
    "def monitorear_modelo(input_data, valores_reales):\n",
    "    \"\"\"\n",
    "    Esta función toma los datos de entrada y los valores reales, hace predicciones y calcula las métricas RMSE y R².\n",
    "    \"\"\"\n",
    "    try:\n",
    "        # Hacer predicciones con el modelo\n",
    "        predicciones = modelo.predict(input_data)\n",
    "        \n",
    "        # Calcular métricas de monitoreo\n",
    "        rmse = mean_squared_error(valores_reales, predicciones, squared=False)\n",
    "        r2 = r2_score(valores_reales, predicciones)\n",
    "        \n",
    "        # Mostrar métricas\n",
    "        print(f\"RMSE: {rmse}\")\n",
    "        print(f\"R2 Score: {r2}\")\n",
    "        \n",
    "        return rmse, r2\n",
    "    except Exception as e:\n",
    "        print(f\"Error en el monitoreo: {e}\")\n"
   ]
  },
  {
   "cell_type": "code",
   "execution_count": 6,
   "id": "82e45046-783c-4eea-9e1f-ef37ef0531da",
   "metadata": {},
   "outputs": [],
   "source": [
    "ejemplo_datos_entrada = pd.DataFrame({\n",
    "    \"sqft_living\": [1340,2500,1800],\n",
    "    \"sqft_basement\": [0,400,300],\n",
    "    \"floors\": [1.5,2,1],\n",
    "    \"yr_built\": [1955,1995,1980]\n",
    "})"
   ]
  },
  {
   "cell_type": "code",
   "execution_count": 7,
   "id": "29f1cf0e-defd-481d-90e2-f420054a2d8f",
   "metadata": {},
   "outputs": [
    {
     "name": "stdout",
     "output_type": "stream",
     "text": [
      "Predicciones:\n",
      "[[380830.79179095]\n",
      " [527475.0409261 ]\n",
      " [379328.17876808]]\n"
     ]
    }
   ],
   "source": [
    "predicciones = hacer_prediccion(ejemplo_datos_entrada)\n",
    "print(\"Predicciones:\")\n",
    "print(predicciones)"
   ]
  },
  {
   "cell_type": "code",
   "execution_count": 8,
   "id": "e948330d-c63c-4037-8ad6-6d0ca7c6d846",
   "metadata": {},
   "outputs": [],
   "source": [
    "valores_reales = [313000,520000,340000]"
   ]
  },
  {
   "cell_type": "code",
   "execution_count": 9,
   "id": "d4b32dcb-07be-4ab9-b06c-a8d2bb79b4e4",
   "metadata": {},
   "outputs": [
    {
     "name": "stdout",
     "output_type": "stream",
     "text": [
      "RMSE: 45473.795373631525\n",
      "R2 Score: 0.7550502172846587\n"
     ]
    },
    {
     "name": "stderr",
     "output_type": "stream",
     "text": [
      "C:\\Users\\taoiz\\Desktop\\Proyecto 1\\p1\\Lib\\site-packages\\sklearn\\metrics\\_regression.py:492: FutureWarning: 'squared' is deprecated in version 1.4 and will be removed in 1.6. To calculate the root mean squared error, use the function'root_mean_squared_error'.\n",
      "  warnings.warn(\n"
     ]
    }
   ],
   "source": [
    "rmse, r2 = monitorear_modelo(ejemplo_datos_entrada, valores_reales)"
   ]
  }
 ],
 "metadata": {
  "kernelspec": {
   "display_name": "Python (p1)",
   "language": "python",
   "name": "p1"
  },
  "language_info": {
   "codemirror_mode": {
    "name": "ipython",
    "version": 3
   },
   "file_extension": ".py",
   "mimetype": "text/x-python",
   "name": "python",
   "nbconvert_exporter": "python",
   "pygments_lexer": "ipython3",
   "version": "3.11.4"
  }
 },
 "nbformat": 4,
 "nbformat_minor": 5
}
